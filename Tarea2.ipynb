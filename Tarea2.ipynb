{
  "nbformat": 4,
  "nbformat_minor": 0,
  "metadata": {
    "colab": {
      "name": "Tarea2",
      "provenance": [],
      "collapsed_sections": [],
      "authorship_tag": "ABX9TyNfNgSGlHEu/zjRQx92Xl+j",
      "include_colab_link": true
    },
    "kernelspec": {
      "name": "python3",
      "display_name": "Python 3"
    }
  },
  "cells": [
    {
      "cell_type": "markdown",
      "metadata": {
        "id": "view-in-github",
        "colab_type": "text"
      },
      "source": [
        "<a href=\"https://colab.research.google.com/github/Satorresja/COVID-19/blob/master/Tarea2.ipynb\" target=\"_parent\"><img src=\"https://colab.research.google.com/assets/colab-badge.svg\" alt=\"Open In Colab\"/></a>"
      ]
    },
    {
      "cell_type": "code",
      "metadata": {
        "id": "WtJXN65orAbU",
        "colab_type": "code",
        "outputId": "41488dd4-b4e3-41d9-c58d-a7ba945f03ff",
        "colab": {
          "base_uri": "https://localhost:8080/",
          "height": 602
        }
      },
      "source": [
        "%matplotlib inline\n",
        "import numpy as np\n",
        "import matplotlib.pyplot as plt\n",
        "from matplotlib.pyplot import figure\n",
        "import pandas as pd\n",
        "import pylab as pl\n",
        "import warnings\n",
        "import datetime as dt\n",
        "\n",
        "warnings.filterwarnings(\"ignore\")\n",
        "\n",
        "!pip install wget\n",
        "import wget\n",
        "\n",
        "#datos covid19 - mundo\n",
        "#url = \"https://data.humdata.org/hxlproxy/api/data-preview.csv?url=https%3A%2F%2Fraw.githubusercontent.com%2FCSSEGISandData%2FCOVID-19%2Fmaster%2Fcsse_covid_19_data%2Fcsse_covid_19_time_series%2Ftime_series_covid19_confirmed_global.csv&filename=time_series_covid19_confirmed_global.csv\"\n",
        "#datos Colombia\n",
        "url = \"https://www.datos.gov.co/api/views/gt2j-8ykr/rows.csv?accessType=DOWNLOAD\"\n",
        "wget.download(url, 'Casos_positivos_de_COVID-19_en_Colombia.csv')\n",
        "df = pd.read_csv('Casos_positivos_de_COVID-19_en_Colombia.csv')\n",
        "df.head(10)\n"
      ],
      "execution_count": 315,
      "outputs": [
        {
          "output_type": "stream",
          "text": [
            "Requirement already satisfied: wget in /usr/local/lib/python3.6/dist-packages (3.2)\n"
          ],
          "name": "stdout"
        },
        {
          "output_type": "execute_result",
          "data": {
            "text/html": [
              "<div>\n",
              "<style scoped>\n",
              "    .dataframe tbody tr th:only-of-type {\n",
              "        vertical-align: middle;\n",
              "    }\n",
              "\n",
              "    .dataframe tbody tr th {\n",
              "        vertical-align: top;\n",
              "    }\n",
              "\n",
              "    .dataframe thead th {\n",
              "        text-align: right;\n",
              "    }\n",
              "</style>\n",
              "<table border=\"1\" class=\"dataframe\">\n",
              "  <thead>\n",
              "    <tr style=\"text-align: right;\">\n",
              "      <th></th>\n",
              "      <th>ID de caso</th>\n",
              "      <th>Fecha de notificación</th>\n",
              "      <th>Codigo DIVIPOLA</th>\n",
              "      <th>Ciudad de ubicación</th>\n",
              "      <th>Departamento o Distrito</th>\n",
              "      <th>atención</th>\n",
              "      <th>Edad</th>\n",
              "      <th>Sexo</th>\n",
              "      <th>Tipo</th>\n",
              "      <th>Estado</th>\n",
              "      <th>País de procedencia</th>\n",
              "      <th>FIS</th>\n",
              "      <th>Fecha de muerte</th>\n",
              "      <th>Fecha diagnostico</th>\n",
              "      <th>Fecha recuperado</th>\n",
              "      <th>Fecha reporte web</th>\n",
              "    </tr>\n",
              "  </thead>\n",
              "  <tbody>\n",
              "    <tr>\n",
              "      <th>0</th>\n",
              "      <td>1</td>\n",
              "      <td>2020-03-02T00:00:00.000</td>\n",
              "      <td>11001</td>\n",
              "      <td>Bogotá D.C.</td>\n",
              "      <td>Bogotá D.C.</td>\n",
              "      <td>Recuperado</td>\n",
              "      <td>19</td>\n",
              "      <td>F</td>\n",
              "      <td>Importado</td>\n",
              "      <td>Leve</td>\n",
              "      <td>ITALIA</td>\n",
              "      <td>2020-02-27T00:00:00.000</td>\n",
              "      <td>NaN</td>\n",
              "      <td>2020-03-06T00:00:00.000</td>\n",
              "      <td>2020-03-13T00:00:00.000</td>\n",
              "      <td>2020-03-06T00:00:00.000</td>\n",
              "    </tr>\n",
              "    <tr>\n",
              "      <th>1</th>\n",
              "      <td>2</td>\n",
              "      <td>2020-03-06T00:00:00.000</td>\n",
              "      <td>76111</td>\n",
              "      <td>Guadalajara de Buga</td>\n",
              "      <td>Valle del Cauca</td>\n",
              "      <td>Recuperado</td>\n",
              "      <td>34</td>\n",
              "      <td>M</td>\n",
              "      <td>Importado</td>\n",
              "      <td>Leve</td>\n",
              "      <td>ESPAÑA</td>\n",
              "      <td>2020-03-04T00:00:00.000</td>\n",
              "      <td>NaN</td>\n",
              "      <td>2020-03-09T00:00:00.000</td>\n",
              "      <td>2020-03-19T00:00:00.000</td>\n",
              "      <td>2020-03-09T00:00:00.000</td>\n",
              "    </tr>\n",
              "    <tr>\n",
              "      <th>2</th>\n",
              "      <td>3</td>\n",
              "      <td>2020-03-07T00:00:00.000</td>\n",
              "      <td>5001</td>\n",
              "      <td>Medellín</td>\n",
              "      <td>Antioquia</td>\n",
              "      <td>Recuperado</td>\n",
              "      <td>50</td>\n",
              "      <td>F</td>\n",
              "      <td>Importado</td>\n",
              "      <td>Leve</td>\n",
              "      <td>ESPAÑA</td>\n",
              "      <td>2020-02-29T00:00:00.000</td>\n",
              "      <td>NaN</td>\n",
              "      <td>2020-03-09T00:00:00.000</td>\n",
              "      <td>2020-03-15T00:00:00.000</td>\n",
              "      <td>2020-03-09T00:00:00.000</td>\n",
              "    </tr>\n",
              "    <tr>\n",
              "      <th>3</th>\n",
              "      <td>4</td>\n",
              "      <td>2020-03-09T00:00:00.000</td>\n",
              "      <td>5001</td>\n",
              "      <td>Medellín</td>\n",
              "      <td>Antioquia</td>\n",
              "      <td>Recuperado</td>\n",
              "      <td>55</td>\n",
              "      <td>M</td>\n",
              "      <td>Relacionado</td>\n",
              "      <td>Leve</td>\n",
              "      <td>COLOMBIA</td>\n",
              "      <td>2020-03-06T00:00:00.000</td>\n",
              "      <td>NaN</td>\n",
              "      <td>2020-03-11T00:00:00.000</td>\n",
              "      <td>2020-03-26T00:00:00.000</td>\n",
              "      <td>2020-03-11T00:00:00.000</td>\n",
              "    </tr>\n",
              "    <tr>\n",
              "      <th>4</th>\n",
              "      <td>5</td>\n",
              "      <td>2020-03-09T00:00:00.000</td>\n",
              "      <td>5001</td>\n",
              "      <td>Medellín</td>\n",
              "      <td>Antioquia</td>\n",
              "      <td>Recuperado</td>\n",
              "      <td>25</td>\n",
              "      <td>M</td>\n",
              "      <td>Relacionado</td>\n",
              "      <td>Leve</td>\n",
              "      <td>COLOMBIA</td>\n",
              "      <td>2020-03-08T00:00:00.000</td>\n",
              "      <td>NaN</td>\n",
              "      <td>2020-03-11T00:00:00.000</td>\n",
              "      <td>2020-03-23T00:00:00.000</td>\n",
              "      <td>2020-03-11T00:00:00.000</td>\n",
              "    </tr>\n",
              "    <tr>\n",
              "      <th>5</th>\n",
              "      <td>6</td>\n",
              "      <td>2020-03-10T00:00:00.000</td>\n",
              "      <td>5360</td>\n",
              "      <td>Itagüí</td>\n",
              "      <td>Antioquia</td>\n",
              "      <td>Recuperado</td>\n",
              "      <td>27</td>\n",
              "      <td>F</td>\n",
              "      <td>Relacionado</td>\n",
              "      <td>Leve</td>\n",
              "      <td>COLOMBIA</td>\n",
              "      <td>2020-03-06T00:00:00.000</td>\n",
              "      <td>NaN</td>\n",
              "      <td>2020-03-11T00:00:00.000</td>\n",
              "      <td>2020-03-26T00:00:00.000</td>\n",
              "      <td>2020-03-11T00:00:00.000</td>\n",
              "    </tr>\n",
              "    <tr>\n",
              "      <th>6</th>\n",
              "      <td>7</td>\n",
              "      <td>2020-03-08T00:00:00.000</td>\n",
              "      <td>13001</td>\n",
              "      <td>Cartagena de Indias</td>\n",
              "      <td>Cartagena D.T. y C.</td>\n",
              "      <td>Recuperado</td>\n",
              "      <td>85</td>\n",
              "      <td>F</td>\n",
              "      <td>Importado</td>\n",
              "      <td>Leve</td>\n",
              "      <td>ESTADOS UNIDOS DE AMERICA</td>\n",
              "      <td>2020-03-02T00:00:00.000</td>\n",
              "      <td>NaN</td>\n",
              "      <td>2020-03-11T00:00:00.000</td>\n",
              "      <td>2020-03-17T00:00:00.000</td>\n",
              "      <td>2020-03-11T00:00:00.000</td>\n",
              "    </tr>\n",
              "    <tr>\n",
              "      <th>7</th>\n",
              "      <td>8</td>\n",
              "      <td>2020-03-09T00:00:00.000</td>\n",
              "      <td>11001</td>\n",
              "      <td>Bogotá D.C.</td>\n",
              "      <td>Bogotá D.C.</td>\n",
              "      <td>Recuperado</td>\n",
              "      <td>22</td>\n",
              "      <td>F</td>\n",
              "      <td>Importado</td>\n",
              "      <td>Leve</td>\n",
              "      <td>ESPAÑA</td>\n",
              "      <td>2020-03-06T00:00:00.000</td>\n",
              "      <td>NaN</td>\n",
              "      <td>2020-03-11T00:00:00.000</td>\n",
              "      <td>2020-03-21T00:00:00.000</td>\n",
              "      <td>2020-03-11T00:00:00.000</td>\n",
              "    </tr>\n",
              "    <tr>\n",
              "      <th>8</th>\n",
              "      <td>9</td>\n",
              "      <td>2020-03-08T00:00:00.000</td>\n",
              "      <td>11001</td>\n",
              "      <td>Bogotá D.C.</td>\n",
              "      <td>Bogotá D.C.</td>\n",
              "      <td>Recuperado</td>\n",
              "      <td>28</td>\n",
              "      <td>F</td>\n",
              "      <td>Importado</td>\n",
              "      <td>Leve</td>\n",
              "      <td>ESPAÑA</td>\n",
              "      <td>2020-03-08T00:00:00.000</td>\n",
              "      <td>NaN</td>\n",
              "      <td>2020-03-11T00:00:00.000</td>\n",
              "      <td>2020-03-23T00:00:00.000</td>\n",
              "      <td>2020-03-11T00:00:00.000</td>\n",
              "    </tr>\n",
              "    <tr>\n",
              "      <th>9</th>\n",
              "      <td>10</td>\n",
              "      <td>2020-03-12T00:00:00.000</td>\n",
              "      <td>11001</td>\n",
              "      <td>Bogotá D.C.</td>\n",
              "      <td>Bogotá D.C.</td>\n",
              "      <td>Recuperado</td>\n",
              "      <td>36</td>\n",
              "      <td>F</td>\n",
              "      <td>Importado</td>\n",
              "      <td>Leve</td>\n",
              "      <td>ESPAÑA</td>\n",
              "      <td>2020-03-06T00:00:00.000</td>\n",
              "      <td>NaN</td>\n",
              "      <td>2020-03-12T00:00:00.000</td>\n",
              "      <td>2020-03-21T00:00:00.000</td>\n",
              "      <td>2020-03-12T00:00:00.000</td>\n",
              "    </tr>\n",
              "  </tbody>\n",
              "</table>\n",
              "</div>"
            ],
            "text/plain": [
              "   ID de caso  ...        Fecha reporte web\n",
              "0           1  ...  2020-03-06T00:00:00.000\n",
              "1           2  ...  2020-03-09T00:00:00.000\n",
              "2           3  ...  2020-03-09T00:00:00.000\n",
              "3           4  ...  2020-03-11T00:00:00.000\n",
              "4           5  ...  2020-03-11T00:00:00.000\n",
              "5           6  ...  2020-03-11T00:00:00.000\n",
              "6           7  ...  2020-03-11T00:00:00.000\n",
              "7           8  ...  2020-03-11T00:00:00.000\n",
              "8           9  ...  2020-03-11T00:00:00.000\n",
              "9          10  ...  2020-03-12T00:00:00.000\n",
              "\n",
              "[10 rows x 16 columns]"
            ]
          },
          "metadata": {
            "tags": []
          },
          "execution_count": 315
        }
      ]
    },
    {
      "cell_type": "code",
      "metadata": {
        "id": "qcSe6D9-rZJd",
        "colab_type": "code",
        "colab": {}
      },
      "source": [
        "df = pd.read_csv(\"/content/Casos_positivos_de_COVID-19_en_Colombia.csv\")\n",
        "\n",
        "df = df.sort_values([\"Fecha diagnostico\"], ascending=[1])"
      ],
      "execution_count": 0,
      "outputs": []
    },
    {
      "cell_type": "code",
      "metadata": {
        "id": "ASsGuD5grj_s",
        "colab_type": "code",
        "outputId": "ce4e7d80-bd31-4115-d93d-fd3708109ce1",
        "colab": {
          "base_uri": "https://localhost:8080/",
          "height": 212
        }
      },
      "source": [
        "df[\"Fecha diagnostico\"].head(10)"
      ],
      "execution_count": 317,
      "outputs": [
        {
          "output_type": "execute_result",
          "data": {
            "text/plain": [
              "0     2020-03-06T00:00:00.000\n",
              "1     2020-03-09T00:00:00.000\n",
              "2     2020-03-09T00:00:00.000\n",
              "3     2020-03-11T00:00:00.000\n",
              "4     2020-03-11T00:00:00.000\n",
              "5     2020-03-11T00:00:00.000\n",
              "6     2020-03-11T00:00:00.000\n",
              "7     2020-03-11T00:00:00.000\n",
              "8     2020-03-11T00:00:00.000\n",
              "12    2020-03-12T00:00:00.000\n",
              "Name: Fecha diagnostico, dtype: object"
            ]
          },
          "metadata": {
            "tags": []
          },
          "execution_count": 317
        }
      ]
    },
    {
      "cell_type": "code",
      "metadata": {
        "id": "iEDlEoYQvQ2g",
        "colab_type": "code",
        "outputId": "98ed9afc-24c2-4228-cb6f-116dabb8d8d4",
        "colab": {
          "base_uri": "https://localhost:8080/",
          "height": 497
        }
      },
      "source": [
        "columns=df[[\"Fecha diagnostico\"]]\n",
        "#dat=pd.to_datetime(columns[\"Fecha diagnostico\"],  dayfirst=True)\n",
        "\n",
        "cont = []\n",
        "for i in range(0,len(columns)):\n",
        "    cont.append(i+1)\n",
        "\n",
        "columns[\"Contador\"]=cont\n",
        "\n",
        "columns=columns.reset_index()\n",
        "columns=columns.drop(columns=[\"index\"])  #Organizar índices porque el ciclo for trabaja con los índices y antes estaban desorganizados\n",
        "columns.head(15)"
      ],
      "execution_count": 318,
      "outputs": [
        {
          "output_type": "execute_result",
          "data": {
            "text/html": [
              "<div>\n",
              "<style scoped>\n",
              "    .dataframe tbody tr th:only-of-type {\n",
              "        vertical-align: middle;\n",
              "    }\n",
              "\n",
              "    .dataframe tbody tr th {\n",
              "        vertical-align: top;\n",
              "    }\n",
              "\n",
              "    .dataframe thead th {\n",
              "        text-align: right;\n",
              "    }\n",
              "</style>\n",
              "<table border=\"1\" class=\"dataframe\">\n",
              "  <thead>\n",
              "    <tr style=\"text-align: right;\">\n",
              "      <th></th>\n",
              "      <th>Fecha diagnostico</th>\n",
              "      <th>Contador</th>\n",
              "    </tr>\n",
              "  </thead>\n",
              "  <tbody>\n",
              "    <tr>\n",
              "      <th>0</th>\n",
              "      <td>2020-03-06T00:00:00.000</td>\n",
              "      <td>1</td>\n",
              "    </tr>\n",
              "    <tr>\n",
              "      <th>1</th>\n",
              "      <td>2020-03-09T00:00:00.000</td>\n",
              "      <td>2</td>\n",
              "    </tr>\n",
              "    <tr>\n",
              "      <th>2</th>\n",
              "      <td>2020-03-09T00:00:00.000</td>\n",
              "      <td>3</td>\n",
              "    </tr>\n",
              "    <tr>\n",
              "      <th>3</th>\n",
              "      <td>2020-03-11T00:00:00.000</td>\n",
              "      <td>4</td>\n",
              "    </tr>\n",
              "    <tr>\n",
              "      <th>4</th>\n",
              "      <td>2020-03-11T00:00:00.000</td>\n",
              "      <td>5</td>\n",
              "    </tr>\n",
              "    <tr>\n",
              "      <th>5</th>\n",
              "      <td>2020-03-11T00:00:00.000</td>\n",
              "      <td>6</td>\n",
              "    </tr>\n",
              "    <tr>\n",
              "      <th>6</th>\n",
              "      <td>2020-03-11T00:00:00.000</td>\n",
              "      <td>7</td>\n",
              "    </tr>\n",
              "    <tr>\n",
              "      <th>7</th>\n",
              "      <td>2020-03-11T00:00:00.000</td>\n",
              "      <td>8</td>\n",
              "    </tr>\n",
              "    <tr>\n",
              "      <th>8</th>\n",
              "      <td>2020-03-11T00:00:00.000</td>\n",
              "      <td>9</td>\n",
              "    </tr>\n",
              "    <tr>\n",
              "      <th>9</th>\n",
              "      <td>2020-03-12T00:00:00.000</td>\n",
              "      <td>10</td>\n",
              "    </tr>\n",
              "    <tr>\n",
              "      <th>10</th>\n",
              "      <td>2020-03-12T00:00:00.000</td>\n",
              "      <td>11</td>\n",
              "    </tr>\n",
              "    <tr>\n",
              "      <th>11</th>\n",
              "      <td>2020-03-12T00:00:00.000</td>\n",
              "      <td>12</td>\n",
              "    </tr>\n",
              "    <tr>\n",
              "      <th>12</th>\n",
              "      <td>2020-03-12T00:00:00.000</td>\n",
              "      <td>13</td>\n",
              "    </tr>\n",
              "    <tr>\n",
              "      <th>13</th>\n",
              "      <td>2020-03-12T00:00:00.000</td>\n",
              "      <td>14</td>\n",
              "    </tr>\n",
              "    <tr>\n",
              "      <th>14</th>\n",
              "      <td>2020-03-13T00:00:00.000</td>\n",
              "      <td>15</td>\n",
              "    </tr>\n",
              "  </tbody>\n",
              "</table>\n",
              "</div>"
            ],
            "text/plain": [
              "          Fecha diagnostico  Contador\n",
              "0   2020-03-06T00:00:00.000         1\n",
              "1   2020-03-09T00:00:00.000         2\n",
              "2   2020-03-09T00:00:00.000         3\n",
              "3   2020-03-11T00:00:00.000         4\n",
              "4   2020-03-11T00:00:00.000         5\n",
              "5   2020-03-11T00:00:00.000         6\n",
              "6   2020-03-11T00:00:00.000         7\n",
              "7   2020-03-11T00:00:00.000         8\n",
              "8   2020-03-11T00:00:00.000         9\n",
              "9   2020-03-12T00:00:00.000        10\n",
              "10  2020-03-12T00:00:00.000        11\n",
              "11  2020-03-12T00:00:00.000        12\n",
              "12  2020-03-12T00:00:00.000        13\n",
              "13  2020-03-12T00:00:00.000        14\n",
              "14  2020-03-13T00:00:00.000        15"
            ]
          },
          "metadata": {
            "tags": []
          },
          "execution_count": 318
        }
      ]
    },
    {
      "cell_type": "code",
      "metadata": {
        "id": "SK-HRLNvJmKl",
        "colab_type": "code",
        "colab": {}
      },
      "source": [
        "#columns['Fecha'] = dat\n",
        "#columns.head(10)\n",
        "\n",
        "var=columns[\"Fecha diagnostico\"][0]\n",
        "\n",
        "fechas=[]\n",
        "len_dat=len(columns[\"Fecha diagnostico\"])\n",
        "#print(len_dat)\n",
        "for i in range(len_dat):\n",
        "  #print(columns[\"Fecha diagnostico\"][i])\n",
        "  if(var!=columns[\"Fecha diagnostico\"][i]):\n",
        "    fechas.append([columns[\"Fecha diagnostico\"][i-1],columns[\"Contador\"][i-1]])\n",
        "    var=columns[\"Fecha diagnostico\"][i]\n",
        "    #print(var)\n",
        "fechas.append([columns[\"Fecha diagnostico\"][len_dat-1],columns[\"Contador\"][len_dat-1]])\n",
        "\n",
        "# print(\"Fecha\\t\\tCaso\")\n",
        "# for i in fechas:\n",
        "#   print(i[0],\"\\t\",i[1])\n",
        "\n"
      ],
      "execution_count": 0,
      "outputs": []
    },
    {
      "cell_type": "code",
      "metadata": {
        "id": "I-P8TdXUgDjM",
        "colab_type": "code",
        "colab": {
          "base_uri": "https://localhost:8080/",
          "height": 197
        },
        "outputId": "1c340b32-7fbc-4f62-ce98-e10ad09176eb"
      },
      "source": [
        "fechas=pd.DataFrame(fechas)\n",
        "fechas=fechas.rename(columns={0:\"Fechas\",1:\"Casos\"})\n",
        "\n",
        "Count=[]\n",
        "for i in range(len(fechas)):\n",
        "  Count.append(i+1)\n",
        "#print(Count)\n",
        "fechas[\"Días\"]=Count\n",
        "\n",
        "Datos=fechas[[\"Días\",\"Casos\"]]\n",
        "\n",
        "Xdata=Datos[\"Días\"]\n",
        "Xdata=Xdata.values.reshape(-1,1)\n",
        "ydata=Datos[\"Casos\"]\n",
        "ydata=ydata.values.reshape(-1,1)\n",
        "Datos.head(5)"
      ],
      "execution_count": 320,
      "outputs": [
        {
          "output_type": "execute_result",
          "data": {
            "text/html": [
              "<div>\n",
              "<style scoped>\n",
              "    .dataframe tbody tr th:only-of-type {\n",
              "        vertical-align: middle;\n",
              "    }\n",
              "\n",
              "    .dataframe tbody tr th {\n",
              "        vertical-align: top;\n",
              "    }\n",
              "\n",
              "    .dataframe thead th {\n",
              "        text-align: right;\n",
              "    }\n",
              "</style>\n",
              "<table border=\"1\" class=\"dataframe\">\n",
              "  <thead>\n",
              "    <tr style=\"text-align: right;\">\n",
              "      <th></th>\n",
              "      <th>Días</th>\n",
              "      <th>Casos</th>\n",
              "    </tr>\n",
              "  </thead>\n",
              "  <tbody>\n",
              "    <tr>\n",
              "      <th>0</th>\n",
              "      <td>1</td>\n",
              "      <td>1</td>\n",
              "    </tr>\n",
              "    <tr>\n",
              "      <th>1</th>\n",
              "      <td>2</td>\n",
              "      <td>3</td>\n",
              "    </tr>\n",
              "    <tr>\n",
              "      <th>2</th>\n",
              "      <td>3</td>\n",
              "      <td>9</td>\n",
              "    </tr>\n",
              "    <tr>\n",
              "      <th>3</th>\n",
              "      <td>4</td>\n",
              "      <td>14</td>\n",
              "    </tr>\n",
              "    <tr>\n",
              "      <th>4</th>\n",
              "      <td>5</td>\n",
              "      <td>19</td>\n",
              "    </tr>\n",
              "  </tbody>\n",
              "</table>\n",
              "</div>"
            ],
            "text/plain": [
              "   Días  Casos\n",
              "0     1      1\n",
              "1     2      3\n",
              "2     3      9\n",
              "3     4     14\n",
              "4     5     19"
            ]
          },
          "metadata": {
            "tags": []
          },
          "execution_count": 320
        }
      ]
    },
    {
      "cell_type": "code",
      "metadata": {
        "id": "DzcT6keHJqcb",
        "colab_type": "code",
        "colab": {}
      },
      "source": [
        "from sklearn.model_selection import train_test_split, GridSearchCV, cross_val_predict, cross_val_score, cross_validate"
      ],
      "execution_count": 0,
      "outputs": []
    },
    {
      "cell_type": "code",
      "metadata": {
        "id": "19RiUAPsJsJz",
        "colab_type": "code",
        "colab": {}
      },
      "source": [
        "X_train, X_test, y_train, y_test = train_test_split(Xdata, ydata, test_size=0.3)\n"
      ],
      "execution_count": 0,
      "outputs": []
    },
    {
      "cell_type": "code",
      "metadata": {
        "id": "6_2KNN_HKN4t",
        "colab_type": "code",
        "outputId": "6ad69f21-67f6-499a-fe28-a3538c8919eb",
        "colab": {
          "base_uri": "https://localhost:8080/",
          "height": 317
        }
      },
      "source": [
        "print(Xdata.shape) \n",
        "print(ydata.shape)\n",
        "\n",
        "plt.plot(X_train, y_train, \"r.\", label=\"train\")\n",
        "plt.plot(X_test, y_test, \"b.\", label=\"test\")\n",
        "plt.legend(loc=\"best\")"
      ],
      "execution_count": 323,
      "outputs": [
        {
          "output_type": "stream",
          "text": [
            "(43, 1)\n",
            "(43, 1)\n"
          ],
          "name": "stdout"
        },
        {
          "output_type": "execute_result",
          "data": {
            "text/plain": [
              "<matplotlib.legend.Legend at 0x7f6fefbb1358>"
            ]
          },
          "metadata": {
            "tags": []
          },
          "execution_count": 323
        },
        {
          "output_type": "display_data",
          "data": {
            "image/png": "[encoded data removed]",
            "text/plain": [
              "<Figure size 432x288 with 1 Axes>"
            ]
          },
          "metadata": {
            "tags": [],
            "needs_background": "light"
          }
        }
      ]
    },
    {
      "cell_type": "code",
      "metadata": {
        "id": "oGCXJo5UK-RX",
        "colab_type": "code",
        "colab": {}
      },
      "source": [
        "# from sklearn.linear_model import LinearRegression\n",
        "# reg = LinearRegression() # contruyendo el objeto\n",
        "# reg.fit(X_train, y_train) #ajustar solo sobre train\n",
        "# #predicción\n",
        "# y_test_e=reg.predict(X_test)\n",
        "# y_train_e=reg.predict(X_train)"
      ],
      "execution_count": 0,
      "outputs": []
    },
    {
      "cell_type": "code",
      "metadata": {
        "id": "SFL68RYXLwJ-",
        "colab_type": "code",
        "colab": {}
      },
      "source": [
        "from sklearn.linear_model import LinearRegression\n",
        "from sklearn.kernel_ridge import KernelRidge\n",
        "from sklearn.pipeline import Pipeline\n",
        "#reg = LinearRegression() # construyendo el objeto\n",
        "gamma = 0.01\n",
        "alpha = 0.001\n",
        "reg = KernelRidge(kernel='rbf',gamma=gamma, alpha = alpha)\n",
        "reg.fit(X_train,y_train) #ajustar solo sobre train\n",
        "#prediccion\n",
        "y_test_e = reg.predict(X_test)\n",
        "y_train_e = reg.predict(X_train)"
      ],
      "execution_count": 0,
      "outputs": []
    },
    {
      "cell_type": "code",
      "metadata": {
        "id": "Pv-SkeHEL28O",
        "colab_type": "code",
        "outputId": "46486a75-bee3-4715-a744-99c501374b18",
        "colab": {
          "base_uri": "https://localhost:8080/",
          "height": 425
        }
      },
      "source": [
        "steps=[('reg', KernelRidge(kernel = 'rbf'))]\n",
        "parameters = {'reg__alpha' : [0,1e-3,1e-2,0.1,1,10,100,1000],              \n",
        "              'reg__gamma': [1e-4,1e-3,1e-2,0.1,1,10,100,1000],\n",
        "              'reg__kernel': ['rbf','poly'],\n",
        "              }\n",
        "\n",
        "pipeline = Pipeline(steps = steps)\n",
        "\n",
        "grid_search = GridSearchCV(pipeline, parameters, n_jobs=4,cv=5,\n",
        "                           scoring='neg_mean_absolute_error',verbose=10)\n",
        "\n",
        "grid_search.fit(X_train, y_train)\n",
        "#mejor modelo entrenado\n",
        "best_model = grid_search.best_estimator_\n",
        "\n",
        "print(\"\\nMejores parámetros:\\n\")\n",
        "print(grid_search.best_params_)"
      ],
      "execution_count": 326,
      "outputs": [
        {
          "output_type": "stream",
          "text": [
            "Fitting 5 folds for each of 128 candidates, totalling 640 fits\n"
          ],
          "name": "stdout"
        },
        {
          "output_type": "stream",
          "text": [
            "[Parallel(n_jobs=4)]: Using backend LokyBackend with 4 concurrent workers.\n",
            "[Parallel(n_jobs=4)]: Batch computation too fast (0.0065s.) Setting batch_size=2.\n",
            "[Parallel(n_jobs=4)]: Done   5 tasks      | elapsed:    0.0s\n",
            "[Parallel(n_jobs=4)]: Batch computation too fast (0.0345s.) Setting batch_size=4.\n",
            "[Parallel(n_jobs=4)]: Done  12 tasks      | elapsed:    0.1s\n",
            "[Parallel(n_jobs=4)]: Batch computation too fast (0.0579s.) Setting batch_size=8.\n",
            "[Parallel(n_jobs=4)]: Done  28 tasks      | elapsed:    0.1s\n",
            "[Parallel(n_jobs=4)]: Done  56 tasks      | elapsed:    0.2s\n",
            "[Parallel(n_jobs=4)]: Batch computation too fast (0.0926s.) Setting batch_size=16.\n",
            "[Parallel(n_jobs=4)]: Done 136 tasks      | elapsed:    0.4s\n",
            "[Parallel(n_jobs=4)]: Batch computation too fast (0.0960s.) Setting batch_size=32.\n",
            "[Parallel(n_jobs=4)]: Batch computation too fast (0.1677s.) Setting batch_size=64.\n",
            "[Parallel(n_jobs=4)]: Done 312 tasks      | elapsed:    0.8s\n",
            "[Parallel(n_jobs=4)]: Done 461 tasks      | elapsed:    1.0s\n",
            "[Parallel(n_jobs=4)]: Done 552 tasks      | elapsed:    1.0s\n",
            "[Parallel(n_jobs=4)]: Done 591 tasks      | elapsed:    1.1s\n",
            "[Parallel(n_jobs=4)]: Done 633 out of 640 | elapsed:    1.2s remaining:    0.0s\n"
          ],
          "name": "stderr"
        },
        {
          "output_type": "stream",
          "text": [
            "\n",
            "Mejores parámetros:\n",
            "\n",
            "{'reg__alpha': 0.001, 'reg__gamma': 0.01, 'reg__kernel': 'rbf'}\n"
          ],
          "name": "stdout"
        },
        {
          "output_type": "stream",
          "text": [
            "[Parallel(n_jobs=4)]: Done 640 out of 640 | elapsed:    1.2s finished\n"
          ],
          "name": "stderr"
        }
      ]
    },
    {
      "cell_type": "code",
      "metadata": {
        "id": "ACnv6G1yL-zS",
        "colab_type": "code",
        "outputId": "f90e66fb-fd62-41bd-e574-60b60e1af895",
        "colab": {
          "base_uri": "https://localhost:8080/",
          "height": 282
        }
      },
      "source": [
        "plt.plot(X_train, y_train_e, \"r.\", label=\"traine\")\n",
        "plt.plot(X_test, y_test_e, \"b.\", label=\"teste\")\n",
        "plt.plot(Xdata, ydata, label=\"target\", color=\"g\")\n",
        "plt.legend(loc=\"best\")"
      ],
      "execution_count": 330,
      "outputs": [
        {
          "output_type": "execute_result",
          "data": {
            "text/plain": [
              "<matplotlib.legend.Legend at 0x7f6fefa67358>"
            ]
          },
          "metadata": {
            "tags": []
          },
          "execution_count": 330
        },
        {
          "output_type": "display_data",
          "data": {
            "image/png": "[encoded data removed]",
            "text/plain": [
              "<Figure size 432x288 with 1 Axes>"
            ]
          },
          "metadata": {
            "tags": [],
            "needs_background": "light"
          }
        }
      ]
    },
    {
      "cell_type": "code",
      "metadata": {
        "id": "DRmcyEovriEi",
        "colab_type": "code",
        "colab": {
          "base_uri": "https://localhost:8080/",
          "height": 247
        },
        "outputId": "bec41bd8-2e11-4eac-b973-cd8a07928350"
      },
      "source": [
        "print(y_test_e)"
      ],
      "execution_count": 328,
      "outputs": [
        {
          "output_type": "stream",
          "text": [
            "[[ 1.75527279e+02]\n",
            " [ 1.46230999e+02]\n",
            " [ 1.41324476e+03]\n",
            " [ 3.48912722e+01]\n",
            " [ 2.48423354e+02]\n",
            " [-1.19568047e+00]\n",
            " [ 6.20141754e+02]\n",
            " [ 4.66973669e+02]\n",
            " [ 3.18679215e+03]\n",
            " [ 3.44186537e+02]\n",
            " [ 5.39591734e+02]\n",
            " [ 4.83988822e+01]\n",
            " [ 1.14668738e+03]]\n"
          ],
          "name": "stdout"
        }
      ]
    }
  ]
}